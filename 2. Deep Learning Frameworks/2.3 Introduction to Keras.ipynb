{
 "cells": [
  {
   "cell_type": "markdown",
   "metadata": {},
   "source": [
    "<img src=\"../imgs/keras-logo-small.jpg\" width=\"20%\" />\n",
    "\n",
    "## Keras: Deep Learning library for Theano and TensorFlow"
   ]
  },
  {
   "cell_type": "markdown",
   "metadata": {},
   "source": [
    ">Keras is a minimalist, highly modular neural networks library, written in Python and capable of running on top of either TensorFlow or Theano. \n",
    "\n",
    ">It was developed with a focus on enabling fast experimentation. Being able to go from idea to result with the least possible delay is key to doing good research.\n",
    "ref: https://keras.io/"
   ]
  },
  {
   "cell_type": "markdown",
   "metadata": {},
   "source": [
    "<a name=\"kaggle\"></a>\n",
    "### Kaggle Challenge Data"
   ]
  },
  {
   "cell_type": "markdown",
   "metadata": {},
   "source": [
    ">The Otto Group is one of the world’s biggest e-commerce companies, A consistent analysis of the performance of products is crucial. However, due to diverse global infrastructure, many identical products get classified differently.\n",
    "For this competition, we have provided a dataset with 93 features for more than 200,000 products. The objective is to build a predictive model which is able to distinguish between our main product categories. \n",
    "Each row corresponds to a single product. There are a total of 93 numerical features, which represent counts of different events. All features have been obfuscated and will not be defined any further.\n",
    "\n",
    "https://www.kaggle.com/c/otto-group-product-classification-challenge/data"
   ]
  },
  {
   "cell_type": "markdown",
   "metadata": {},
   "source": [
    "##### For this section we will use the Kaggle Otto Group Challenge Data. You will find these data in \n",
    "`../data/kaggle_ottogroup/` folder."
   ]
  },
  {
   "cell_type": "markdown",
   "metadata": {},
   "source": [
    "## Logistic Regression\n",
    "\n",
    "This algorithm has nothing to do with the canonical _linear regression_, but it is an algorithm that allows us to solve problems of classification (supervised learning). \n",
    "\n",
    "In fact, to estimate the dependent variable, now we make use of the so-called **logistic function** or **sigmoid**. \n",
    "\n",
    "It is precisely because of this feature we call this algorithm logistic regression.\n",
    "\n",
    "![](../imgs/sigmoid.png)"
   ]
  },
  {
   "cell_type": "markdown",
   "metadata": {},
   "source": [
    "## Data Preparation"
   ]
  },
  {
   "cell_type": "code",
   "execution_count": 1,
   "metadata": {},
   "outputs": [
    {
     "name": "stderr",
     "output_type": "stream",
     "text": [
      "Using TensorFlow backend.\n"
     ]
    }
   ],
   "source": [
    "from kaggle_data import load_data, preprocess_data, preprocess_labels\n",
    "import numpy as np\n",
    "import matplotlib.pyplot as plt"
   ]
  },
  {
   "cell_type": "code",
   "execution_count": 2,
   "metadata": {},
   "outputs": [
    {
     "name": "stdout",
     "output_type": "stream",
     "text": [
      "(9, 'classes')\n",
      "(93, 'dims')\n"
     ]
    }
   ],
   "source": [
    "X_train, labels = load_data('../data/kaggle_ottogroup/train.csv', train=True)\n",
    "X_train, scaler = preprocess_data(X_train)\n",
    "Y_train, encoder = preprocess_labels(labels)\n",
    "\n",
    "X_test, ids = load_data('../data/kaggle_ottogroup/test.csv', train=False)\n",
    "X_test, _ = preprocess_data(X_test, scaler)\n",
    "\n",
    "nb_classes = Y_train.shape[1]\n",
    "print(nb_classes, 'classes')\n",
    "\n",
    "dims = X_train.shape[1]\n",
    "print(dims, 'dims')"
   ]
  },
  {
   "cell_type": "code",
   "execution_count": 3,
   "metadata": {},
   "outputs": [
    {
     "data": {
      "text/plain": [
       "array(['Class_1', 'Class_2', 'Class_3', 'Class_4', 'Class_5', 'Class_6',\n",
       "       'Class_7', 'Class_8', 'Class_9'], dtype=object)"
      ]
     },
     "execution_count": 3,
     "metadata": {},
     "output_type": "execute_result"
    }
   ],
   "source": [
    "np.unique(labels)"
   ]
  },
  {
   "cell_type": "code",
   "execution_count": 4,
   "metadata": {},
   "outputs": [
    {
     "data": {
      "text/plain": [
       "array([[ 0.,  0.,  0., ...,  0.,  0.,  0.],\n",
       "       [ 0.,  0.,  1., ...,  0.,  0.,  0.],\n",
       "       [ 0.,  0.,  0., ...,  0.,  0.,  1.],\n",
       "       ..., \n",
       "       [ 0.,  0.,  0., ...,  0.,  0.,  0.],\n",
       "       [ 0.,  0.,  1., ...,  0.,  0.,  0.],\n",
       "       [ 0.,  1.,  0., ...,  0.,  0.,  0.]])"
      ]
     },
     "execution_count": 4,
     "metadata": {},
     "output_type": "execute_result"
    }
   ],
   "source": [
    "Y_train  # one-hot encoding"
   ]
  },
  {
   "cell_type": "markdown",
   "metadata": {},
   "source": [
    "---"
   ]
  },
  {
   "cell_type": "markdown",
   "metadata": {},
   "source": [
    "---"
   ]
  },
  {
   "cell_type": "markdown",
   "metadata": {},
   "source": [
    "# Using Keras"
   ]
  },
  {
   "cell_type": "code",
   "execution_count": 5,
   "metadata": {
    "collapsed": true
   },
   "outputs": [],
   "source": [
    "from keras.models import Sequential\n",
    "from keras.layers import Dense, Activation"
   ]
  },
  {
   "cell_type": "code",
   "execution_count": 6,
   "metadata": {},
   "outputs": [
    {
     "name": "stdout",
     "output_type": "stream",
     "text": [
      "(93, 'dims')\n",
      "Building model...\n",
      "(9, 'classes')\n",
      "Epoch 1/10\n",
      "61878/61878 [==============================] - 4s - loss: 1.9788     \n",
      "Epoch 2/10\n",
      "61878/61878 [==============================] - 3s - loss: 1.8398     \n",
      "Epoch 3/10\n",
      "61878/61878 [==============================] - 3s - loss: 1.7824     \n",
      "Epoch 4/10\n",
      "61878/61878 [==============================] - 3s - loss: 1.7461     \n",
      "Epoch 5/10\n",
      "61878/61878 [==============================] - 3s - loss: 1.7202     \n",
      "Epoch 6/10\n",
      "61878/61878 [==============================] - 2s - loss: 1.7005     \n",
      "Epoch 7/10\n",
      "61878/61878 [==============================] - 3s - loss: 1.6851     \n",
      "Epoch 8/10\n",
      "61878/61878 [==============================] - 2s - loss: 1.6728     \n",
      "Epoch 9/10\n",
      "61878/61878 [==============================] - 2s - loss: 1.6628     \n",
      "Epoch 10/10\n",
      "61878/61878 [==============================] - 2s - loss: 1.6546     \n"
     ]
    },
    {
     "data": {
      "text/plain": [
       "<keras.callbacks.History at 0x119ecca90>"
      ]
     },
     "execution_count": 6,
     "metadata": {},
     "output_type": "execute_result"
    }
   ],
   "source": [
    "dims = X_train.shape[1]\n",
    "print(dims, 'dims')\n",
    "print(\"Building model...\")\n",
    "\n",
    "nb_classes = Y_train.shape[1]\n",
    "print(nb_classes, 'classes')\n",
    "\n",
    "model = Sequential()\n",
    "model.add(Dense(nb_classes, input_shape=(dims,), activation='sigmoid'))\n",
    "model.add(Activation('softmax'))\n",
    "\n",
    "model.compile(optimizer='sgd', loss='categorical_crossentropy')\n",
    "model.fit(X_train, Y_train)"
   ]
  },
  {
   "cell_type": "markdown",
   "metadata": {},
   "source": [
    "Simplicity is pretty impressive right? :)"
   ]
  },
  {
   "cell_type": "markdown",
   "metadata": {},
   "source": [
    "**Theano**:\n",
    "\n",
    "`shape = (channels, rows, cols)`\n",
    "\n",
    "**Tensorflow**:\n",
    "\n",
    "`shape = (rows, cols, channels)`"
   ]
  },
  {
   "cell_type": "markdown",
   "metadata": {},
   "source": [
    "`image_data_format` : `channels_last | channels_first`"
   ]
  },
  {
   "cell_type": "code",
   "execution_count": 7,
   "metadata": {},
   "outputs": [
    {
     "name": "stdout",
     "output_type": "stream",
     "text": [
      "{\r\n",
      "    \"image_dim_ordering\": \"th\", \r\n",
      "    \"epsilon\": 1e-07, \r\n",
      "    \"floatx\": \"float32\", \r\n",
      "    \"backend\": \"tensorflow\"\r\n",
      "}"
     ]
    }
   ],
   "source": [
    "!cat ~/.keras/keras.json"
   ]
  },
  {
   "cell_type": "markdown",
   "metadata": {},
   "source": [
    "Now lets understand:\n",
    "<pre>The core data structure of Keras is a <b>model</b>, a way to organize layers. The main type of model is the <b>Sequential</b> model, a linear stack of layers.</pre>\n"
   ]
  },
  {
   "cell_type": "markdown",
   "metadata": {},
   "source": [
    "What we did here is stacking a Fully Connected (<b>Dense</b>) layer of trainable weights from the input to the output and an <b>Activation</b> layer on top of the weights layer."
   ]
  },
  {
   "cell_type": "markdown",
   "metadata": {},
   "source": [
    "##### Dense"
   ]
  },
  {
   "cell_type": "markdown",
   "metadata": {
    "collapsed": true
   },
   "source": [
    "```python\n",
    "from keras.layers.core import Dense\n",
    "\n",
    "Dense(units, activation=None, use_bias=True, \n",
    "      kernel_initializer='glorot_uniform', bias_initializer='zeros', \n",
    "      kernel_regularizer=None, bias_regularizer=None, \n",
    "      activity_regularizer=None, kernel_constraint=None, bias_constraint=None)\n",
    "```"
   ]
  },
  {
   "cell_type": "markdown",
   "metadata": {},
   "source": [
    "* `units`: int > 0.\n",
    "\n",
    "* `init`: name of initialization function for the weights of the layer (see initializations), or alternatively, Theano function to use for weights initialization. This parameter is only relevant if you don't pass a weights argument.\n",
    "\n",
    "* `activation`: name of activation function to use (see activations), or alternatively, elementwise Theano function. If you don't specify anything, no activation is applied (ie. \"linear\" activation: a(x) = x).\n",
    "\n",
    "* `weights`: list of Numpy arrays to set as initial weights. The list should have 2 elements, of shape (input_dim, output_dim) and (output_dim,) for weights and biases respectively.\n",
    "\n",
    "* `kernel_regularizer`: instance of WeightRegularizer (eg. L1 or L2 regularization), applied to the main weights matrix.\n",
    "\n",
    "* `bias_regularizer`: instance of WeightRegularizer, applied to the bias.\n",
    "\n",
    "* `activity_regularizer`: instance of ActivityRegularizer, applied to the network output.\n",
    "\n",
    "* `kernel_constraint`: instance of the constraints module (eg. maxnorm, nonneg), applied to the main weights matrix.\n",
    "\n",
    "* `bias_constraint`: instance of the constraints module, applied to the bias.\n",
    "\n",
    "* `use_bias`: whether to include a bias (i.e. make the layer affine rather than linear)."
   ]
  },
  {
   "cell_type": "markdown",
   "metadata": {},
   "source": [
    "## (some) others `keras.core.layers`"
   ]
  },
  {
   "cell_type": "markdown",
   "metadata": {},
   "source": [
    "* `keras.layers.core.Flatten()`\n",
    "* `keras.layers.core.Reshape(target_shape)`\n",
    "* `keras.layers.core.Permute(dims)`\n",
    "\n",
    "```python\n",
    "model = Sequential()\n",
    "model.add(Permute((2, 1), input_shape=(10, 64)))\n",
    "# now: model.output_shape == (None, 64, 10)\n",
    "# note: `None` is the batch dimension\n",
    "```\n",
    "\n",
    "* `keras.layers.core.Lambda(function, output_shape=None, arguments=None)`\n",
    "* `keras.layers.core.ActivityRegularization(l1=0.0, l2=0.0)`"
   ]
  },
  {
   "cell_type": "markdown",
   "metadata": {},
   "source": [
    "<img src=\"../imgs/dl_overview.png\" >\n",
    "\n",
    "Credits: Yam Peleg ([@Yampeleg](https://twitter.com/yampeleg))"
   ]
  },
  {
   "cell_type": "markdown",
   "metadata": {},
   "source": [
    "##### Activation"
   ]
  },
  {
   "cell_type": "markdown",
   "metadata": {
    "collapsed": true
   },
   "source": [
    "```python\n",
    "from keras.layers.core import Activation\n",
    "\n",
    "Activation(activation)\n",
    "```"
   ]
  },
  {
   "cell_type": "markdown",
   "metadata": {},
   "source": [
    "**Supported Activations** : [https://keras.io/activations/]\n",
    "\n",
    "**Advanced Activations**: [https://keras.io/layers/advanced-activations/]"
   ]
  },
  {
   "cell_type": "markdown",
   "metadata": {},
   "source": [
    "##### Optimizer"
   ]
  },
  {
   "cell_type": "markdown",
   "metadata": {},
   "source": [
    "If you need to, you can further configure your optimizer. A core principle of Keras is to make things reasonably simple, while allowing the user to be fully in control when they need to (the ultimate control being the easy extensibility of the source code).\n",
    "Here we used <b>SGD</b> (stochastic gradient descent) as an optimization algorithm for our trainable weights.  "
   ]
  },
  {
   "cell_type": "markdown",
   "metadata": {},
   "source": [
    "<img src=\"http://sebastianruder.com/content/images/2016/09/saddle_point_evaluation_optimizers.gif\" width=\"40%\">\n",
    "\n",
    "Source & Reference: http://sebastianruder.com/content/images/2016/09/saddle_point_evaluation_optimizers.gif"
   ]
  },
  {
   "cell_type": "markdown",
   "metadata": {},
   "source": [
    "\"Data Sciencing\" this example a little bit more\n",
    "====="
   ]
  },
  {
   "cell_type": "markdown",
   "metadata": {},
   "source": [
    "What we did here is nice, however in the real world it is not useable because of overfitting.\n",
    "Lets try and solve it with cross validation."
   ]
  },
  {
   "cell_type": "markdown",
   "metadata": {},
   "source": [
    "##### Overfitting"
   ]
  },
  {
   "cell_type": "markdown",
   "metadata": {},
   "source": [
    "In overfitting, a statistical model describes random error or noise instead of the underlying relationship. Overfitting occurs when a model is excessively complex, such as having too many parameters relative to the number of observations. \n",
    "\n",
    "A model that has been overfit has poor predictive performance, as it overreacts to minor fluctuations in the training data."
   ]
  },
  {
   "cell_type": "markdown",
   "metadata": {},
   "source": [
    "\n",
    "<img src=\"../imgs/overfitting.png\">"
   ]
  },
  {
   "cell_type": "markdown",
   "metadata": {},
   "source": [
    "<pre>To avoid overfitting, we will first split out data to training set and test set and test out model on the test set.\n",
    "Next: we will use two of keras's callbacks <b>EarlyStopping</b> and <b>ModelCheckpoint</b></pre>"
   ]
  },
  {
   "cell_type": "markdown",
   "metadata": {},
   "source": [
    "---"
   ]
  },
  {
   "cell_type": "markdown",
   "metadata": {},
   "source": [
    "Let's see first the model we implemented"
   ]
  },
  {
   "cell_type": "code",
   "execution_count": 8,
   "metadata": {},
   "outputs": [
    {
     "name": "stdout",
     "output_type": "stream",
     "text": [
      "_________________________________________________________________\n",
      "Layer (type)                 Output Shape              Param #   \n",
      "=================================================================\n",
      "dense_1 (Dense)              (None, 9)                 846       \n",
      "_________________________________________________________________\n",
      "activation_1 (Activation)    (None, 9)                 0         \n",
      "=================================================================\n",
      "Total params: 846\n",
      "Trainable params: 846\n",
      "Non-trainable params: 0\n",
      "_________________________________________________________________\n"
     ]
    }
   ],
   "source": [
    "model.summary()"
   ]
  },
  {
   "cell_type": "code",
   "execution_count": 9,
   "metadata": {
    "collapsed": true
   },
   "outputs": [],
   "source": [
    "from sklearn.model_selection import train_test_split\n",
    "from keras.callbacks import EarlyStopping, ModelCheckpoint"
   ]
  },
  {
   "cell_type": "code",
   "execution_count": 10,
   "metadata": {},
   "outputs": [
    {
     "name": "stdout",
     "output_type": "stream",
     "text": [
      "Train on 52596 samples, validate on 9282 samples\n",
      "Epoch 1/50\n",
      "52596/52596 [==============================] - 0s - loss: 1.6507 - val_loss: 1.6462\n",
      "Epoch 2/50\n",
      "52596/52596 [==============================] - 0s - loss: 1.6493 - val_loss: 1.6449\n",
      "Epoch 3/50\n",
      "52596/52596 [==============================] - 0s - loss: 1.6479 - val_loss: 1.6436\n",
      "Epoch 4/50\n",
      "52596/52596 [==============================] - 0s - loss: 1.6466 - val_loss: 1.6423\n",
      "Epoch 5/50\n",
      "52596/52596 [==============================] - 0s - loss: 1.6453 - val_loss: 1.6410\n",
      "Epoch 6/50\n",
      "52596/52596 [==============================] - 0s - loss: 1.6441 - val_loss: 1.6399\n",
      "Epoch 7/50\n",
      "52596/52596 [==============================] - 0s - loss: 1.6429 - val_loss: 1.6387\n",
      "Epoch 8/50\n",
      "52596/52596 [==============================] - 0s - loss: 1.6417 - val_loss: 1.6376\n",
      "Epoch 9/50\n",
      "52596/52596 [==============================] - 0s - loss: 1.6406 - val_loss: 1.6365\n",
      "Epoch 10/50\n",
      "52596/52596 [==============================] - 0s - loss: 1.6395 - val_loss: 1.6355\n",
      "Epoch 11/50\n",
      "52596/52596 [==============================] - 0s - loss: 1.6384 - val_loss: 1.6344\n",
      "Epoch 12/50\n",
      "52596/52596 [==============================] - 0s - loss: 1.6374 - val_loss: 1.6334\n",
      "Epoch 13/50\n",
      "52596/52596 [==============================] - 0s - loss: 1.6364 - val_loss: 1.6325\n",
      "Epoch 14/50\n",
      "52596/52596 [==============================] - 0s - loss: 1.6354 - val_loss: 1.6316\n",
      "Epoch 15/50\n",
      "52596/52596 [==============================] - 0s - loss: 1.6345 - val_loss: 1.6306\n",
      "Epoch 16/50\n",
      "52596/52596 [==============================] - 0s - loss: 1.6336 - val_loss: 1.6298\n",
      "Epoch 17/50\n",
      "52596/52596 [==============================] - 0s - loss: 1.6327 - val_loss: 1.6289\n",
      "Epoch 18/50\n",
      "52596/52596 [==============================] - 0s - loss: 1.6318 - val_loss: 1.6281\n",
      "Epoch 19/50\n",
      "52596/52596 [==============================] - 0s - loss: 1.6310 - val_loss: 1.6273\n",
      "Epoch 20/50\n",
      "52596/52596 [==============================] - 0s - loss: 1.6302 - val_loss: 1.6265\n",
      "Epoch 21/50\n",
      "52596/52596 [==============================] - 0s - loss: 1.6294 - val_loss: 1.6257\n",
      "Epoch 22/50\n",
      "52596/52596 [==============================] - 0s - loss: 1.6286 - val_loss: 1.6249\n",
      "Epoch 23/50\n",
      "52596/52596 [==============================] - 0s - loss: 1.6278 - val_loss: 1.6242\n",
      "Epoch 24/50\n",
      "52596/52596 [==============================] - 0s - loss: 1.6271 - val_loss: 1.6235\n",
      "Epoch 25/50\n",
      "52596/52596 [==============================] - 0s - loss: 1.6264 - val_loss: 1.6228\n",
      "Epoch 26/50\n",
      "52596/52596 [==============================] - 0s - loss: 1.6257 - val_loss: 1.6221\n",
      "Epoch 27/50\n",
      "52596/52596 [==============================] - 0s - loss: 1.6250 - val_loss: 1.6215\n",
      "Epoch 28/50\n",
      "52596/52596 [==============================] - 0s - loss: 1.6243 - val_loss: 1.6208\n",
      "Epoch 29/50\n",
      "52596/52596 [==============================] - 0s - loss: 1.6237 - val_loss: 1.6202\n",
      "Epoch 30/50\n",
      "52596/52596 [==============================] - 0s - loss: 1.6231 - val_loss: 1.6196\n",
      "Epoch 31/50\n",
      "52596/52596 [==============================] - 0s - loss: 1.6224 - val_loss: 1.6190\n",
      "Epoch 32/50\n",
      "52596/52596 [==============================] - 0s - loss: 1.6218 - val_loss: 1.6184\n",
      "Epoch 33/50\n",
      "52596/52596 [==============================] - 0s - loss: 1.6212 - val_loss: 1.6178\n",
      "Epoch 34/50\n",
      "52596/52596 [==============================] - 0s - loss: 1.6207 - val_loss: 1.6172\n",
      "Epoch 35/50\n",
      "52596/52596 [==============================] - 0s - loss: 1.6201 - val_loss: 1.6167\n",
      "Epoch 36/50\n",
      "52596/52596 [==============================] - 0s - loss: 1.6195 - val_loss: 1.6161\n",
      "Epoch 37/50\n",
      "52596/52596 [==============================] - 0s - loss: 1.6190 - val_loss: 1.6156\n",
      "Epoch 38/50\n",
      "52596/52596 [==============================] - 0s - loss: 1.6184 - val_loss: 1.6151\n",
      "Epoch 39/50\n",
      "52596/52596 [==============================] - 0s - loss: 1.6179 - val_loss: 1.6146\n",
      "Epoch 40/50\n",
      "52596/52596 [==============================] - 0s - loss: 1.6174 - val_loss: 1.6141\n",
      "Epoch 41/50\n",
      "52596/52596 [==============================] - 0s - loss: 1.6169 - val_loss: 1.6136\n",
      "Epoch 42/50\n",
      "52596/52596 [==============================] - 0s - loss: 1.6164 - val_loss: 1.6131\n",
      "Epoch 43/50\n",
      "52596/52596 [==============================] - 0s - loss: 1.6159 - val_loss: 1.6126\n",
      "Epoch 44/50\n",
      "52596/52596 [==============================] - 0s - loss: 1.6155 - val_loss: 1.6122\n",
      "Epoch 45/50\n",
      "52596/52596 [==============================] - 0s - loss: 1.6150 - val_loss: 1.6117\n",
      "Epoch 46/50\n",
      "52596/52596 [==============================] - 0s - loss: 1.6145 - val_loss: 1.6113\n",
      "Epoch 47/50\n",
      "52596/52596 [==============================] - 0s - loss: 1.6141 - val_loss: 1.6108\n",
      "Epoch 48/50\n",
      "52596/52596 [==============================] - 0s - loss: 1.6136 - val_loss: 1.6104\n",
      "Epoch 49/50\n",
      "52596/52596 [==============================] - 0s - loss: 1.6132 - val_loss: 1.6100\n",
      "Epoch 50/50\n",
      "52596/52596 [==============================] - 0s - loss: 1.6128 - val_loss: 1.6096\n"
     ]
    },
    {
     "data": {
      "text/plain": [
       "<keras.callbacks.History at 0x119e77c50>"
      ]
     },
     "execution_count": 10,
     "metadata": {},
     "output_type": "execute_result"
    }
   ],
   "source": [
    "X_train, X_val, Y_train, Y_val = train_test_split(X_train, Y_train, test_size=0.15, random_state=42)\n",
    "\n",
    "fBestModel = 'best_model.h5' \n",
    "early_stop = EarlyStopping(monitor='val_loss', patience=2, verbose=1) \n",
    "best_model = ModelCheckpoint(fBestModel, verbose=0, save_best_only=True)\n",
    "\n",
    "model.fit(X_train, Y_train, validation_data = (X_val, Y_val), epochs=50, \n",
    "          batch_size=128, verbose=True, callbacks=[best_model, early_stop]) "
   ]
  },
  {
   "cell_type": "markdown",
   "metadata": {},
   "source": [
    "# Multi-Layer Fully Connected Networks"
   ]
  },
  {
   "cell_type": "markdown",
   "metadata": {},
   "source": [
    "<img src=\"../imgs/MLP.png\" width=\"45%\">"
   ]
  },
  {
   "cell_type": "markdown",
   "metadata": {},
   "source": [
    "#### Forward and Backward Propagation"
   ]
  },
  {
   "cell_type": "markdown",
   "metadata": {},
   "source": [
    "<img src=\"../imgs/backprop.png\" width=\"50%\">"
   ]
  },
  {
   "cell_type": "markdown",
   "metadata": {},
   "source": [
    "**Q:** _How hard can it be to build a Multi-Layer Fully-Connected Network with keras?_\n",
    "\n",
    "**A:** _It is basically the same, just add more layers!_"
   ]
  },
  {
   "cell_type": "code",
   "execution_count": 11,
   "metadata": {},
   "outputs": [
    {
     "name": "stdout",
     "output_type": "stream",
     "text": [
      "_________________________________________________________________\n",
      "Layer (type)                 Output Shape              Param #   \n",
      "=================================================================\n",
      "dense_2 (Dense)              (None, 100)               9400      \n",
      "_________________________________________________________________\n",
      "dense_3 (Dense)              (None, 9)                 909       \n",
      "_________________________________________________________________\n",
      "activation_2 (Activation)    (None, 9)                 0         \n",
      "=================================================================\n",
      "Total params: 10,309\n",
      "Trainable params: 10,309\n",
      "Non-trainable params: 0\n",
      "_________________________________________________________________\n"
     ]
    }
   ],
   "source": [
    "model = Sequential()\n",
    "model.add(Dense(100, input_shape=(dims,)))\n",
    "model.add(Dense(nb_classes))\n",
    "model.add(Activation('softmax'))\n",
    "model.compile(optimizer='sgd', loss='categorical_crossentropy')\n",
    "model.summary()"
   ]
  },
  {
   "cell_type": "code",
   "execution_count": 12,
   "metadata": {},
   "outputs": [
    {
     "name": "stdout",
     "output_type": "stream",
     "text": [
      "Train on 52596 samples, validate on 9282 samples\n",
      "Epoch 1/20\n",
      "52596/52596 [==============================] - 1s - loss: 1.1741 - val_loss: 0.8799\n",
      "Epoch 2/20\n",
      "52596/52596 [==============================] - 0s - loss: 0.8180 - val_loss: 0.7861\n",
      "Epoch 3/20\n",
      "52596/52596 [==============================] - 0s - loss: 0.7556 - val_loss: 0.7480\n",
      "Epoch 4/20\n",
      "52596/52596 [==============================] - 0s - loss: 0.7262 - val_loss: 0.7264\n",
      "Epoch 5/20\n",
      "52596/52596 [==============================] - 0s - loss: 0.7081 - val_loss: 0.7128\n",
      "Epoch 6/20\n",
      "52596/52596 [==============================] - 0s - loss: 0.6956 - val_loss: 0.7025\n",
      "Epoch 7/20\n",
      "52596/52596 [==============================] - 0s - loss: 0.6866 - val_loss: 0.6941\n",
      "Epoch 8/20\n",
      "52596/52596 [==============================] - 0s - loss: 0.6792 - val_loss: 0.6879\n",
      "Epoch 9/20\n",
      "52596/52596 [==============================] - 0s - loss: 0.6737 - val_loss: 0.6829\n",
      "Epoch 10/20\n",
      "52596/52596 [==============================] - 0s - loss: 0.6690 - val_loss: 0.6793\n",
      "Epoch 11/20\n",
      "52596/52596 [==============================] - 0s - loss: 0.6652 - val_loss: 0.6756\n",
      "Epoch 12/20\n",
      "52596/52596 [==============================] - 0s - loss: 0.6620 - val_loss: 0.6729\n",
      "Epoch 13/20\n",
      "52596/52596 [==============================] - 1s - loss: 0.6591 - val_loss: 0.6704\n",
      "Epoch 14/20\n",
      "52596/52596 [==============================] - 0s - loss: 0.6567 - val_loss: 0.6682\n",
      "Epoch 15/20\n",
      "52596/52596 [==============================] - 0s - loss: 0.6545 - val_loss: 0.6661\n",
      "Epoch 16/20\n",
      "52596/52596 [==============================] - 0s - loss: 0.6526 - val_loss: 0.6649\n",
      "Epoch 17/20\n",
      "52596/52596 [==============================] - 0s - loss: 0.6509 - val_loss: 0.6639\n",
      "Epoch 18/20\n",
      "52596/52596 [==============================] - 1s - loss: 0.6493 - val_loss: 0.6623\n",
      "Epoch 19/20\n",
      "52596/52596 [==============================] - 1s - loss: 0.6481 - val_loss: 0.6604\n",
      "Epoch 20/20\n",
      "52596/52596 [==============================] - 1s - loss: 0.6469 - val_loss: 0.6598\n"
     ]
    },
    {
     "data": {
      "text/plain": [
       "<keras.callbacks.History at 0x11a779210>"
      ]
     },
     "execution_count": 12,
     "metadata": {},
     "output_type": "execute_result"
    }
   ],
   "source": [
    "model.fit(X_train, Y_train, validation_data = (X_val, Y_val), epochs=20, \n",
    "          batch_size=128, verbose=True)"
   ]
  },
  {
   "cell_type": "markdown",
   "metadata": {},
   "source": [
    "---"
   ]
  },
  {
   "cell_type": "markdown",
   "metadata": {},
   "source": [
    "# Your Turn!"
   ]
  },
  {
   "cell_type": "markdown",
   "metadata": {},
   "source": [
    "## Hands On - Keras Fully Connected\n"
   ]
  },
  {
   "cell_type": "markdown",
   "metadata": {},
   "source": [
    "Take couple of minutes and try to play with the number of layers and the number of parameters in the layers to get the best results. "
   ]
  },
  {
   "cell_type": "code",
   "execution_count": 13,
   "metadata": {},
   "outputs": [
    {
     "name": "stdout",
     "output_type": "stream",
     "text": [
      "_________________________________________________________________\n",
      "Layer (type)                 Output Shape              Param #   \n",
      "=================================================================\n",
      "dense_4 (Dense)              (None, 100)               9400      \n",
      "_________________________________________________________________\n",
      "dense_5 (Dense)              (None, 9)                 909       \n",
      "_________________________________________________________________\n",
      "activation_3 (Activation)    (None, 9)                 0         \n",
      "=================================================================\n",
      "Total params: 10,309\n",
      "Trainable params: 10,309\n",
      "Non-trainable params: 0\n",
      "_________________________________________________________________\n"
     ]
    }
   ],
   "source": [
    "model = Sequential()\n",
    "model.add(Dense(100, input_shape=(dims,)))\n",
    "\n",
    "# ...\n",
    "# ...\n",
    "# Play with it! add as much layers as you want! try and get better results.\n",
    "\n",
    "model.add(Dense(nb_classes))\n",
    "model.add(Activation('softmax'))\n",
    "model.compile(optimizer='sgd', loss='categorical_crossentropy')\n",
    "\n",
    "model.summary()"
   ]
  },
  {
   "cell_type": "code",
   "execution_count": 14,
   "metadata": {},
   "outputs": [
    {
     "name": "stdout",
     "output_type": "stream",
     "text": [
      "Train on 52596 samples, validate on 9282 samples\n",
      "Epoch 1/20\n",
      "52596/52596 [==============================] - 1s - loss: 1.1726 - val_loss: 0.8620\n",
      "Epoch 2/20\n",
      "52596/52596 [==============================] - 1s - loss: 0.8099 - val_loss: 0.7741\n",
      "Epoch 3/20\n",
      "52596/52596 [==============================] - 1s - loss: 0.7512 - val_loss: 0.7388\n",
      "Epoch 4/20\n",
      "52596/52596 [==============================] - 1s - loss: 0.7230 - val_loss: 0.7187\n",
      "Epoch 5/20\n",
      "52596/52596 [==============================] - 1s - loss: 0.7055 - val_loss: 0.7059\n",
      "Epoch 6/20\n",
      "52596/52596 [==============================] - 1s - loss: 0.6937 - val_loss: 0.6973\n",
      "Epoch 7/20\n",
      "52596/52596 [==============================] - 1s - loss: 0.6849 - val_loss: 0.6901\n",
      "Epoch 8/20\n",
      "52596/52596 [==============================] - 1s - loss: 0.6782 - val_loss: 0.6842\n",
      "Epoch 9/20\n",
      "52596/52596 [==============================] - 1s - loss: 0.6729 - val_loss: 0.6804\n",
      "Epoch 10/20\n",
      "52596/52596 [==============================] - 1s - loss: 0.6685 - val_loss: 0.6766\n",
      "Epoch 11/20\n",
      "52596/52596 [==============================] - 1s - loss: 0.6649 - val_loss: 0.6734\n",
      "Epoch 12/20\n",
      "52596/52596 [==============================] - 1s - loss: 0.6618 - val_loss: 0.6713\n",
      "Epoch 13/20\n",
      "52596/52596 [==============================] - 1s - loss: 0.6594 - val_loss: 0.6686\n",
      "Epoch 14/20\n",
      "52596/52596 [==============================] - 1s - loss: 0.6569 - val_loss: 0.6668\n",
      "Epoch 15/20\n",
      "52596/52596 [==============================] - 1s - loss: 0.6549 - val_loss: 0.6654\n",
      "Epoch 16/20\n",
      "52596/52596 [==============================] - 0s - loss: 0.6531 - val_loss: 0.6631\n",
      "Epoch 17/20\n",
      "52596/52596 [==============================] - 1s - loss: 0.6516 - val_loss: 0.6622\n",
      "Epoch 18/20\n",
      "52596/52596 [==============================] - 0s - loss: 0.6501 - val_loss: 0.6615\n",
      "Epoch 19/20\n",
      "52596/52596 [==============================] - 0s - loss: 0.6488 - val_loss: 0.6600\n",
      "Epoch 20/20\n",
      "52596/52596 [==============================] - 0s - loss: 0.6478 - val_loss: 0.6585\n"
     ]
    },
    {
     "data": {
      "text/plain": [
       "<keras.callbacks.History at 0x11bfe4fd0>"
      ]
     },
     "execution_count": 14,
     "metadata": {},
     "output_type": "execute_result"
    }
   ],
   "source": [
    "model.fit(X_train, Y_train, validation_data = (X_val, Y_val), epochs=20, \n",
    "          batch_size=128, verbose=True)"
   ]
  },
  {
   "cell_type": "markdown",
   "metadata": {},
   "source": [
    "Building a question answering system, an image classification model, a Neural Turing Machine, a word2vec embedder or any other model is just as fast. The ideas behind deep learning are simple, so why should their implementation be painful?"
   ]
  },
  {
   "cell_type": "markdown",
   "metadata": {},
   "source": [
    "#### Theoretical Motivations for depth"
   ]
  },
  {
   "cell_type": "markdown",
   "metadata": {},
   "source": [
    ">Much has been studied about the depth of neural nets. Is has been proven mathematically[1] and empirically that convolutional neural network benifit from depth! "
   ]
  },
  {
   "cell_type": "markdown",
   "metadata": {},
   "source": [
    "[1] - On the Expressive Power of Deep Learning: A Tensor Analysis - Cohen, et al 2015"
   ]
  },
  {
   "cell_type": "markdown",
   "metadata": {},
   "source": [
    "#### Theoretical Motivations for depth"
   ]
  },
  {
   "cell_type": "markdown",
   "metadata": {},
   "source": [
    "One much quoted theorem about neural network states that:"
   ]
  },
  {
   "cell_type": "markdown",
   "metadata": {},
   "source": [
    ">Universal approximation theorem states[1] that a feed-forward network with a single hidden layer containing a finite number of neurons (i.e., a multilayer perceptron), can approximate continuous functions on compact subsets of $\\mathbb{R}^n$, under mild assumptions on the activation function. The theorem thus states that simple neural networks can represent a wide variety of interesting functions when given appropriate parameters; however, it does not touch upon the algorithmic learnability of those parameters."
   ]
  },
  {
   "cell_type": "markdown",
   "metadata": {},
   "source": [
    "[1] - Approximation Capabilities of Multilayer Feedforward Networks - Kurt Hornik 1991"
   ]
  }
 ],
 "metadata": {
  "kernelspec": {
   "display_name": "Python [conda env:keras-tf]",
   "language": "python",
   "name": "conda-env-keras-tf-py"
  },
  "language_info": {
   "codemirror_mode": {
    "name": "ipython",
    "version": 2
   },
   "file_extension": ".py",
   "mimetype": "text/x-python",
   "name": "python",
   "nbconvert_exporter": "python",
   "pygments_lexer": "ipython2",
   "version": "2.7.13"
  }
 },
 "nbformat": 4,
 "nbformat_minor": 1
}
